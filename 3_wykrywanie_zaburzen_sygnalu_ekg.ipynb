{
 "cells": [
  {
   "cell_type": "markdown",
   "id": "7fee790bc89cb036",
   "metadata": {
    "jupyter": {
     "outputs_hidden": false
    }
   },
   "source": [
    "# Wykrywanie Zaburzeń Sygnału EKG"
   ]
  },
  {
   "cell_type": "markdown",
   "id": "92a6fec6",
   "metadata": {},
   "source": [
    "![ECG_anomaly_detection_intro.png](https://live.staticflickr.com/65535/54253200317_77c251c48c_o.png)\n",
    "\n",
    "*Obraz wygenerowany przy użyciu modelu DALL-E.*"
   ]
  },
  {
   "cell_type": "markdown",
   "id": "e6cc76c62a8c7e5e",
   "metadata": {
    "jupyter": {
     "outputs_hidden": false
    }
   },
   "source": [
    "## Wstęp\n",
    "\n",
    "Rozwój sztucznej inteligencji otwiera nowe możliwości w diagnostyce medycznej, zwłaszcza w analizie złożonych danych, takich jak [sygnały elektrokardiograficzne (EKG)](https://www.healio.com/cardiology/learn-the-heart/ecg-review/ecg-interpretation-tutorial). EKG to jedno z najczęściej stosowanych narzędzi diagnostycznych w medycynie, umożliwiające ocenę i wykrywanie nieprawidłowości pracy serca.\n",
    "\n",
    "Tradycyjnie sygnał EKG powstaje z dwunastu odprowadzeń, jednak w tym zadaniu skupimy się na sygnale jednoodprowadzeniowym, czyli dysponujemy\n",
    "jedną zmienną reprezentującą napięcie elektryczne generowane przez serce w czasie. Dane te są rejestrowane w postaci krzywej zależnej od czasu, czyli można tutaj mówić o szeregu czasowym. Z sygnału EKG można wydzielić charakterystyczne fragmenty, czyli **załamki** (ang. waves) P, Q, R, S, T oraz **odstępy** pomiędzy dwoma zdarzeniami w EKG (ang. intervals), spośród których istotną rolę odgrywa odstęp R-R (czas między wystąpieniem dwóch kolejnych załamków R). Oprócz tego mówimy o **odcinkach** (ang. segments), czyli długości między dwoma określonymi załamkami w EKG, pomiędzy którymi powinna występować bazowa amplituda sygnału. Z kolei **zespół** (ang. complex) stanowi kilka zgrupowanych załamków. Głównie wyrózniamy tutaj zespół QRS. Schematyczny rysunek EKG wraz z podpisanymi fragmentami, jest prezentowany poniżej.\n",
    "\n",
    "![ECG.png](https://live.staticflickr.com/65535/54254099351_213d47784d_o.png)\n",
    "\n",
    "W EKG pochodzącym od zdrowej osoby można zauważyć sekwencję PQRST. Na początku wyróżniamy załamek P, która reprezentuje skurcz przedsionków i jest małym pionowym wychyleniem przed zespołem QRS. Następnie, zespół QRS wskazuje na skurcz komór i tworzony jest przez trzy wygięcia: załamek Q, załamek R oraz załamek S. Dalej można zauważyć odcinek ST, czyli płaski odcinek między zespołem QRS a załamkiem T, który odpowiada wczesnej fazie repolaryzacji komór. Finalnie, załamek T, który jest zaokrąglonym, pionowym wychyleniem, dotyczy repolaryzacji komór i ich powrotu do wyjściowego stanu.  Sekwencja PQRST przypomina sinusoidę, której maksimum jest osiągane dla załamka R. W przypadku zaburzeń pracy serca, EKG może wykazywać różne anomalie, takie jak dodatkowe minima lub maksima, czy też znacznie zwiększone odchylenie standardowe podczas całego pomiaru. Charakterystyka tych anomalii zależy od rodzaju i przyczyny zaburzenia.\n",
    "\n",
    "W poniższym zadaniu musisz zmierzyć się z próbkami zawierającymi pojedyncze sekwencje PQRST oraz ich okolice. Większość próbek będzie odpowiadała danym bez anomalii, których przykład zaprezentowany jest na poniższym obrazku:\n",
    "\n",
    "![normal_example.png](https://live.staticflickr.com/65535/54253200322_f0173af129_o.png)\n",
    "\n",
    "Występować będą też pomiary odpowiadające czterem rodzajom zaburzeń:  **AFib**, czyli migotaniu przedsionków, **PAC**, czyli przedwczesnemu pobudzeniu przedsionkowemu, **PVC**, czyli przedwczesnym skurczom komorowym oraz **STEMI**, czyli zawałowi mięśnia sercowego z uniesieniem odcinka ST.\n",
    "\n",
    "**UWAGA**: Poniższe dane są danymi syntetycznymi i są tylko pewnym przybliżeniem rzeczywistych danych EKG!\n",
    "\n",
    "EKG jest typowym przykładem szeregu czasowego, który można analizować za pomocą dedykowanych metod uczenia maszynowego, w tym sieci neuronowych, np. sieci rekurencyjnych. Jednak nie zawsze wykorzystanie sieci neuronowych jest konieczne, a nawet wskazane. W przypadku niektórych problemów satysfakcjonujące wyniki można uzyskać za pomocą prostszych metod, gdzie kluczowe jest odpowiednie przygotowanie danych. Ich umiejętna analiza pozwala na selekcję kliku metacech - cech zwięźle opisujących próbki ze zbioru danych, np. średniej, minimum, maksimum, odchylenia standardowego, itp. Mogą być one wykorzystane do klasyfikacji zamiast oryginalnych cech. Dzięki temu korzystamy z niskowymiarowych danych wejściowych, przykładowo redukujemy 150-wymiarowy wektor zawierający informacje z oryginalnych kroków czasowych do wektora 4-wymiarowego zawierającego specjalnie przygotowane cechy.\n",
    "\n",
    "Przykładem zastosowania niewielkiej liczby metacech są modele uczenia maszynowego, które mają działać na urządzeniach wbudowanych lub małych urządzeniach mobilnych, gdzie kluczowe są takie ograniczenia, jak wymóg niskiego poboru energii, mała ilość dostępnej pamięci operacyjnej czy ograniczona moc obliczeniowa. W takich przypadkach wymagane jest zastosowanie prostszych modeli, które są w stanie zapewnić odpowiednią dokładność klasyfikacji przy jednoczesnym zachowaniu wymaganych ograniczeń.\n",
    "\n",
    "## Zadanie\n",
    "\n",
    "Przygotuj rozwiązanie (wraz z wytrenowaniem modelu lasu losowego), które spełni wymagania naszego urządzenia wbudowanego. Przeanalizuj dane i przygotuj zestaw **4 metacech**, które dadzą najlepszą zrównoważoną dokładność (ang. *balanced accuracy*) dla problemu klasyfikacji sygnałów EKG. Zbiór danych składa się ze zbioru treningowego oraz walidacyjnego (wraz z etykietami), na którym możesz weryfikować swoje podejście. Twoje rozwiązanie będzie sprawdzane na osobnym (tajnym) zbiorze testowym, w którym liczba obserwacji będzie się różnić od liczby obserwacji w zbiorach treningowym i walidacyjnym. Każda próbka jest opisana 150 wartościami odpowiadającymi kolejnym krokom czasowym oraz jest przypisana do jednej z pięciu następujących klas:\n",
    "\n",
    "| ID klasy  | Nazwa klasy   | Opis  | Próbki w zbiorze treningowym | Próbki w zbiorze walidacyjnym |\n",
    "| ------    | ------        | ----  | ---------------------------- | ----------------------------- |\n",
    "| 0         | normal        | brak anomalii | 1400 | 819 |\n",
    "| 1         | afib          | Atrial Fibrillation (migotanie przedsionków)| 150 | 142 |\n",
    "| 2         | pac           | Premature Atrial Contractions (przedwczesne pobudzenie przedsionkowe)| 150 | 191 |\n",
    "| 3         | pvc           | Premature Ventricular Complex (przedwczesne skurcze komorowe)| 150 | 197 |\n",
    "| 4         | st_elevation  | ST-elevation myocardial infarction (zawał mięśnia sercowego z uniesieniem odcinka ST) | 150 | 151 |\n",
    "\n",
    "Nowe cechy powinny zawierać kluczowe informacje diagnostyczne róznicujące powyższe klasy, które pozwolą na skuteczną klasyfikację wymienionych anomalii.\n",
    "\n",
    "Klasyfikatorem dla tego zadania jest [las losowy](https://pl.wikipedia.org/wiki/Las_losowy) z liczbą drzew decyzyjnych nie większą niż 10 oraz maksymalną głębokością 10. **Rozwiązania niespełniające tych warunków będą dyskwalifikowane!** W przypadku innych parametrów lasu nie ma ograniczeń. Dozwolony jest także preprocessing, czyli wstępne przetwarzanie danych wejściowych (np. zastosowanie normalizacji danych).\n",
    "\n",
    "### Kryterium Oceny\n",
    "\n",
    "Twoje rozwiązanie oceniane będzie na tajnym zbiorze testowym na podstawie [zrównoważonej dokładności klasyfikacji (balanced accuracy)](https://scikit-learn.org/dev/modules/generated/sklearn.metrics.balanced_accuracy_score.html):\n",
    "\n",
    "$$\\text{score}(balanced\\_accuracy) = \n",
    "\\begin{cases} \n",
    "    0 &\\quad \\text{jeżeli }  balanced\\_accuracy \\leq 75 \\% \\\\\n",
    "    100 &\\quad \\text{jeżeli }  balanced\\_accuracy \\geq 98 \\% \\\\\n",
    "    \\dfrac{balanced\\_accuracy - 75 \\%}{98 \\% - 75 \\%} &\\quad \\text{w pozostałych przypadkach}\n",
    "\\end{cases}$$\n",
    "\n",
    "Oznacza to, że wszystkie rozwiązania, które na zbiorze testowym uzyskają do $75\\%$ zrównoważonej dokładności klasyfikacji, otrzymają $0$ punktów, zaś co najmniej $98\\%$ zrównoważonej dokładności klasyfikacji, uzyskają maksymalną liczbę punktów za zadanie. Wszystkie zaś wartości z przedziału $75-98\\%$ zostaną zamienione na liczbę punktów (między $0$ a $100$) zgodnie z powyższym wzorem.\n",
    "\n",
    "*Wskazówka*: Twoim wyznacznikiem jakości proponowanego rozwiązania powinien być wynik na zbiorze walidacyjnym.\n",
    "\n",
    "W zagadnieniach dot. wykrywania chorób dość często mamy do czynienia z niezrównoważonym (niezbalansowanym) zbiorem danych. Chodzi o to, że zazwyczaj wśród danych dominują przykłady *normalne*, odpowiadające osobom zdrowym, a próbki reprezentujące osoby chore zwykle należą do mniejszości. Wyobraźmy sobie sytuację, w której na 100 próbek jedynie 10 dotyczy osób chorych, a pozostałe 90 zdrowych. Wówczas model, który każdej próbce przyporządkowywałby klasę *zdrowy*, osiągnąłby 90% dokładności klasyfikacji, lecz jedynie 50% zrównoważonej dokładności klasyfikacji! Oczywiście taki model byłby bezużyteczny. W takich przypadkach potrzebujemy miary, która lepiej odpowiada potrzebom wynikającym z postawionego problemu i informuje o skuteczności modelu w sposób użyteczny z punktu widzenia jego późniejszego użytkownika.\n",
    "\n",
    "W tym zadaniu musisz się więc skupić się na tym, by każda z klas była przyporządkowywana prawidłowo.\n",
    "\n",
    "## Ograniczenia\n",
    "- Twoje rozwiazanie będzie testowane na Platformie Konkursowej bez dostępu do internetu oraz w środowisku bez GPU.\n",
    "- Ewaluacja Twojego finalnego rozwiązania na Platformie Konkursowej nie może trwać dłużej niż 1 minutę bez GPU.\n",
    "- Podczas przygotowania danych należy pamiętać o tym, że:\n",
    "    - zakazane jest korzystanie z innych niż lasy losowe metod uczenia maszynowego, zarówno nadzorowanego jak i nienadzorowanego (np. autokodery, wielowarstwowe perceptrony i inne sieci neuronowe, maszyny wektorów nośnych (SVM), i inne), dozwolone są jednak metody redukcji wymiarowości, w stylu analizy składowych głównych (PCA);\n",
    "    - przy konstrukcji metacech można korzystać wyłącznie z funkcji dostępnych standardowo w Pythonie (`v3.11`), a także Numpy (`v2.0.2`) oraz Scipy (`v1.14.1`);\n",
    "    - można wyznaczyć maksymalnie 4 metacechy,\n",
    "- Do klasyfikacji można wykorzystać wyłącznie [las losowy (RandomForestClassifier) z biblioteki scikit-learn](https://scikit-learn.org/stable/modules/generated/sklearn.ensemble.RandomForestClassifier.html) (`v1.5.2`):\n",
    "    - złożony z maksymalnie 10 drzew decyzyjnych (`n_estimators` $\\leq 10$);\n",
    "    - każde drzewo ma mieć maksymalną głębokość równą 10 (`max_depth` $\\leq 10$);\n",
    "    - pozostałe hiperparametry można modyfikować bez ograniczeń;\n",
    "\n",
    "## Pliki Zgłoszeniowe\n",
    "Ten notebook uzupełniony o Twoje rozwiązanie (patrz klasa `YourSolution`), w którym przygotujesz zestaw 4 metacech opisujących zbiór danych oraz zestaw hiperparametrów lasu losowego.\n",
    "\n",
    "## Ewaluacja\n",
    "Pamiętaj, że podczas sprawdzania flaga `FINAL_EVALUATION_MODE` zostanie ustawiona na `True`.\n",
    "\n",
    "Za to zadanie możesz zdobyć pomiędzy 0 a 100 punktów. Liczba punktów, którą zdobędziesz, będzie wyliczona na (tajnym) zbiorze testowym na Platformie Konkursowej na podstawie wyżej wspomnianego wzoru, zaokrąglona do liczby całkowitej. Jeśli Twoje rozwiązanie nie będzie spełniało powyższych kryteriów lub nie będzie wykonywać się prawidłowo, otrzymasz za zadanie 0 punktów.\n",
    "\n",
    "---\n",
    "\n",
    "## Informacje Uzupełniające\n",
    "\n",
    "### Zrównoważona Dokładność Klasyfikacji\n",
    "\n",
    "Niech $C$ będzie liczbą klas, a $N_j$ odpowiada ilości próbek należących do $j$-tej klasy, gdzie $j \\in \\lbrace 1, ..., C \\rbrace$. Ponadto, niech $\\hat{y}_{i,j}$ będzie przewidywaną przez model klasą dla $j$-tej próbki należącej w rzeczywistości do $i$-tej klasy. Wówczas zrównoważoną (zbalansowaną) dokładność klasyfikacji możemy wyliczyć następująco:\n",
    "\n",
    "$$\n",
    "balanced\\_accuracy = \\dfrac{1}{C} \\sum\\limits_{i=1}^{C} \\sum\\limits_{j=1}^{|N_c|} \\dfrac{1}{|N_c|} \\cdot \\mathbf{1} \\left( \\hat{y}_{i, j} = i \\right),\n",
    "$$\n",
    "\n",
    "gdzie $\\mathbf{1} \\left( \\hat{y}_{i, j} = i \\right)$ jest funkcją indykatorową, która przyjmuje wartość 1, jeśli $\\hat{y}_{i, j} = i$, czyli w sytuacji, w której klasa przewidywana dla $j$-tej próbki jest taka sama jak rzeczywista klasa tej próbki oraz 0 w przeciwnym przypadku. Suma zewnętrzna przebiega po kolejnych klasach, a wewnętrzna po kolejnych próbkach należących do danej klasy.\n",
    "\n",
    "**Przykład**: Niech\n",
    "$$\\mathbf{y} = [0, 0, 0, 1, 1, 2, 2, 2, 2, 3, 3, 3]$$\n",
    "\n",
    "będzie wektorem reprezentującym rzeczywiste klasy dla kolejnych próbek, a\n",
    "\n",
    "$$\\mathbf{\\hat{y}} = [0, 0, 0, 0, 0, 2, 2, 2, 2, 3, 3, 3]$$\n",
    "\n",
    "wektorem reprezentującym predykcje modelu dla tychże próbek. Mamy więc do czynienia z czterema klasami, gdzie model miał problem z klasą o numerze $1$. Wszystkie pozostałe przykłady zostały przypisane bezbłędnie. Łącznie 10 na 12 próbek zostało sklasyfikowanych prawidłowo, co oznacza, że gdybyśmy mieli mierzyć \"zwykłą\" dokładność klasyfikacji, otrzymalibyśmy ok. $83.3\\%$ . Jednak gdy przyjrzymy się zbalansowanej dokładności klasyfikacji, otrzymamy wynik $75\\%$.\n",
    "\n",
    "Załóżmy teraz, że\n",
    "\n",
    "$$\\mathbf{\\hat{y}} = [0, 0, 0, 1, 0, 2, 2, 2, 2, 3, 3, 3]$$\n",
    "\n",
    "czyli model klasyfikuje poprawnie $50\\%$ próbek z klasy 1 oraz $100\\%$ próbek z pozostałych klas. \"Zwykła\" dokładność klasyfikacji wynosi tutaj niespełna $92\\%$, podczas gdy zbalansowana dokładność klasyfikacji wynosi $87.5\\%$.\n",
    "\n",
    "### Anomalie Występujące w Rozważanym Zbiorze Danych\n",
    "\n",
    "#### AFib\n",
    "**Atrial Fibrillation (AFib)**, czyli migotanie przedsionków, występuje wtedy, gdy potencjały czynnościowe wyzwalają się bardzo szybko i chaotycznie, w związku z tym rytm serca jest nieregularny. W tym zaburzeniu załamki P mogą nie być widoczne w EKG, a zespół QRS staje się nieregularny.\n",
    "\n",
    "![AFIB_example.png](https://live.staticflickr.com/65535/54253219357_78c51f06ff_o.png)\n",
    "\n",
    "#### PAC\n",
    "**Premature Atrial Contractions (PACs)**, czyli przedwczesne pobudzenie przedsionkowe, związane jest z nieprawidłowym załamkiem P, po którym następuje prawidłowy zespół QRS. *Uwaga!* W próbkach z zadania występują przykłady, w których w ramach jednej próbki ze zbioru danych widoczny jest jedynie przedwczesny załamek P.\n",
    "\n",
    "![PAC_example.png](https://live.staticflickr.com/65535/54254324138_df77fdd62a_o.png)\n",
    "\n",
    "#### PVC\n",
    "**Premature Ventricular Contractions (PVCs)**, czyli przedwczesne skurcze komorowe, są dodatkowymi uderzeniami serca, które rozpoczynają się w jednej z dwóch komór serca i zakłócają jego regularny rytm. Są jednym z powszechnych rodzajów arytmii. Skurcze te zachodzą wcześniej niż byłoby to oczekiwane na podstawie poprzednich odstępów R-R.\n",
    "\n",
    "![PVC_example.png](https://live.staticflickr.com/65535/54254518540_12ba23c53f_o.png)\n",
    "\n",
    "#### STEMI\n",
    "**ST-elevation myocardial infarction (STEMI)**, czyli zawał mięśnia sercowego z uniesieniem odcinka ST, powoduje zablokowanie przepływu krwi do mięśnia sercowego i jego obumarcie. Segment ST występuje tuż po zespole QRS. W normalnej sytuacji nie ma tam żadnej aktywności elektrycznej, przez co jest on płaski. Jeśli zaś występuje uniesienie odcinka ST, oznacza to blokadę jednej z głównych tętnic doprowadzających krew do serca.\n",
    "\n",
    "![STEMI_example.png](https://live.staticflickr.com/65535/54254099356_422c23144e_o.png)\n",
    "\n",
    "---\n",
    "\n",
    "**Źródła opisu medycznego dot. EKG**: [1](https://www.healio.com/cardiology/learn-the-heart/ecg-review/ecg-topic-reviews-and-criteria/premature-ventricular-contractions-review), [2](https://www.mayoclinic.org/diseases-conditions/premature-ventricular-contractions/symptoms-causes/syc-20376757), [3](https://litfl.com/premature-atrial-complex-pac/), [4](https://www.healio.com/cardiology/learn-the-heart/ecg-review/ecg-topic-reviews-and-criteria/premature-atrial-contractions-review), [5](https://www.mayoclinic.org/diseases-conditions/atrial-fibrillation/symptoms-causes/syc-20350624), [6](https://www.healio.com/cardiology/learn-the-heart/ecg-review/ecg-topic-reviews-and-criteria/atrial-fibrillation-review), [7](https://my.clevelandclinic.org/health/diseases/22068-stemi-heart-attack), obraz załamków PQRST na podstawie [8](https://www.sciencedirect.com/science/article/pii/S0213911121002466)."
   ]
  },
  {
   "cell_type": "markdown",
   "id": "0221e864-03ae-4230-8a37-bfec058ff3ac",
   "metadata": {},
   "source": [
    "# Kod Startowy\n",
    "\n",
    "W tej sekcji inicjalizujemy środowisko poprzez zaimportowanie potrzebnych bibliotek i funkcji. Przygotowany kod ułatwi Tobie efektywne operowanie na danych i budowanie właściwego rozwiązania."
   ]
  },
  {
   "cell_type": "code",
   "execution_count": null,
   "id": "a4053c4df3efc18b",
   "metadata": {
    "collapsed": false,
    "jupyter": {
     "outputs_hidden": false
    }
   },
   "outputs": [],
   "source": [
    "######################### NIE ZMIENIAJ TEJ KOMÓRKI PODCZAS WYSYŁANIA ##########################\n",
    "\n",
    "# W czasie sprawdzania Twojego rozwiązania, wartość flagi FINAL_EVALUATION_MODE zostanie zmieniona na True\n",
    "FINAL_EVALUATION_MODE = False"
   ]
  },
  {
   "cell_type": "code",
   "execution_count": null,
   "id": "8511460ed63f204e",
   "metadata": {
    "ExecuteTime": {
     "end_time": "2024-12-13T09:35:09.165587Z",
     "start_time": "2024-12-13T09:35:07.499912Z"
    },
    "collapsed": false,
    "jupyter": {
     "outputs_hidden": false
    }
   },
   "outputs": [],
   "source": [
    "######################### NIE ZMIENIAJ TEJ KOMÓRKI PODCZAS WYSYŁANIA ##########################\n",
    "import cloudpickle\n",
    "\n",
    "import os\n",
    "import random\n",
    "from abc import ABC, abstractmethod\n",
    "\n",
    "import numpy as np\n",
    "from sklearn.ensemble import RandomForestClassifier\n",
    "from sklearn.metrics import balanced_accuracy_score"
   ]
  },
  {
   "cell_type": "code",
   "execution_count": null,
   "id": "82c4f388e11fc3ed",
   "metadata": {
    "collapsed": false,
    "jupyter": {
     "outputs_hidden": false
    }
   },
   "outputs": [],
   "source": [
    "######################### NIE ZMIENIAJ TEJ KOMÓRKI PODCZAS WYSYŁANIA ##########################\n",
    "\n",
    "# Ustawienie ziarna generatora liczb pseudolosowych w celu zapewnienia deterministyczności wyników.\n",
    "random.seed(42)\n",
    "np.random.seed(42)"
   ]
  },
  {
   "cell_type": "markdown",
   "id": "f6ae949692319123",
   "metadata": {
    "jupyter": {
     "outputs_hidden": false
    }
   },
   "source": [
    "## Ładowanie Danych\n",
    "Za pomocą poniższego kodu wczytujemy dane."
   ]
  },
  {
   "cell_type": "code",
   "execution_count": null,
   "id": "aceaa260cc57432c",
   "metadata": {
    "collapsed": false,
    "jupyter": {
     "outputs_hidden": false
    }
   },
   "outputs": [],
   "source": [
    "######################### NIE ZMIENIAJ TEJ KOMÓRKI PODCZAS WYSYŁANIA ##########################\n",
    "\n",
    "train_val_filename = \"train_validation_sets.npz\"\n",
    "if not os.path.exists(train_val_filename):\n",
    "    import gdown\n",
    "    url = \"https://drive.google.com/file/d/1pCqgbsKBQP1UnH2kMmBKRS1AuvmSl9jx/view?usp=sharing\"\n",
    "    gdown.download(url, train_val_filename, quiet=True, fuzzy=True)\n",
    "\n",
    "train_valid_bundle = np.load(\"train_validation_sets.npz\", allow_pickle=True)\n",
    "x_train = train_valid_bundle[\"X_train\"]\n",
    "y_train = train_valid_bundle[\"y_train\"]\n",
    "y_train_str = train_valid_bundle[\"anomaly_train\"]\n",
    "\n",
    "x_valid = train_valid_bundle[\"X_validation\"]\n",
    "y_valid = train_valid_bundle[\"y_validation\"]\n",
    "y_valid_str = train_valid_bundle[\"anomaly_validation\"]"
   ]
  },
  {
   "cell_type": "markdown",
   "id": "39ff3878366476e8",
   "metadata": {
    "jupyter": {
     "outputs_hidden": false
    }
   },
   "source": [
    "## Publiczny Interfejs Rozwiązania\n",
    "\n",
    "Tylko tego wymagamy od Twojej klasy. W Twoim rozwiązaniu możesz modyfikować swoją klasę do woli dodając atrybuty oraz nowe metody obliczające metacechy - cokolwiek co będzie Ci potrzebne do rozwiązania zadania."
   ]
  },
  {
   "cell_type": "code",
   "execution_count": null,
   "id": "55f895fcd12becb3",
   "metadata": {
    "collapsed": false,
    "jupyter": {
     "outputs_hidden": false
    }
   },
   "outputs": [],
   "source": [
    "######################### NIE ZMIENIAJ TEJ KOMÓRKI PODCZAS WYSYŁANIA ##########################\n",
    "\n",
    "class ISolution(ABC):\n",
    "    random_forest: RandomForestClassifier | None = None\n",
    "\n",
    "    @classmethod\n",
    "    def create_with_training(cls) -> \"ISolution\":\n",
    "        \"\"\"Metoda służąca do stworzenia rozwiązania z wytrenowanym lasem losowym.\"\"\"\n",
    "        solution = cls()\n",
    "\n",
    "        hyperparameters = cls.get_rf_hyperparameters()\n",
    "        hyperparameters = cls.validate_hyperparameters(hyperparameters)\n",
    "        solution.random_forest = RandomForestClassifier(**hyperparameters)\n",
    "\n",
    "        meta_features = solution.compute_meta_features(x_train)\n",
    "        solution.random_forest.fit(meta_features, y_train)\n",
    "        return solution\n",
    "\n",
    "    @staticmethod\n",
    "    def validate_hyperparameters(hyperparameters: dict[str, int | float | str]) -> dict[str, int | float | str]:\n",
    "        \"\"\"\n",
    "        Funkcja ta sprawdza, czy hiperparametry lasu losowego są zgodne z wymaganiami zadania. Jeśli nie, to poprawia je na\n",
    "        domyślne wartości.\n",
    "        \"\"\"\n",
    "        hyperparameters[\"n_estimators\"] = min(hyperparameters.get(\"n_estimators\", 10), 10)\n",
    "        hyperparameters[\"max_depth\"] = min(hyperparameters.get(\"max_depth\", 10), 10)\n",
    "        hyperparameters[\"random_state\"] = 42\n",
    "        return hyperparameters\n",
    "\n",
    "    @abstractmethod\n",
    "    def compute_meta_features(self, x: np.ndarray) -> np.ndarray:\n",
    "        \"\"\"\n",
    "        Funkcja ta powinna dla każdego przykładu ze zbioru $x$ opisanego 150 cechami zwrócić wektor 4 cech, który będzie\n",
    "        reprezentował ten przykład. Funkcja ta powinna przekształcać wejściową tablicę o rozmiarze (n, 150) na tablicę o\n",
    "        rozmiarze (n, 4).\n",
    "        \"\"\"\n",
    "\n",
    "        pass\n",
    "\n",
    "    @staticmethod\n",
    "    @abstractmethod\n",
    "    def get_rf_hyperparameters() -> dict[str, int | float | str]:\n",
    "        \"\"\"\n",
    "        Funkcja ta powinna zwracać słownik z hiperparametrami lasu losowego. Pamiętaj o ograniczeniach na liczbę drzew i ich\n",
    "        głębokość!\n",
    "        \"\"\"\n",
    "\n",
    "        pass\n"
   ]
  },
  {
   "cell_type": "markdown",
   "id": "76fa659473771fa",
   "metadata": {
    "jupyter": {
     "outputs_hidden": false
    }
   },
   "source": [
    "## Kod z Kryterium Oceniającym\n",
    "Kod, zbliżony do poniższego, będzie używany do oceny rozwiązania na zbiorze testowym."
   ]
  },
  {
   "cell_type": "code",
   "execution_count": null,
   "id": "621097e2336ffec3",
   "metadata": {
    "collapsed": false,
    "jupyter": {
     "outputs_hidden": false
    }
   },
   "outputs": [],
   "source": [
    "######################### NIE ZMIENIAJ TEJ KOMÓRKI PODCZAS WYSYŁANIA ##########################\n",
    "\n",
    "def balanced_accuracy_to_score(balanced_accuracy: float) -> float:\n",
    "    return min(max((balanced_accuracy - 75.) * (100. / (98. - 75.)), 0.), 100.)\n",
    "\n",
    "\n",
    "def score_solution(solution: ISolution) -> float:\n",
    "    x, y = x_valid, y_valid\n",
    "    meta_features = solution.compute_meta_features(x)\n",
    "    y_hat = solution.random_forest.predict(meta_features)\n",
    "    balanced_accuracy = 100. * balanced_accuracy_score(y, y_hat)\n",
    "\n",
    "    assert meta_features.shape[-1] <= 4\n",
    "    assert solution.random_forest.n_estimators <= 10\n",
    "    assert solution.random_forest.max_depth <= 10\n",
    "\n",
    "    if not FINAL_EVALUATION_MODE:\n",
    "        print(\"Ocena działania modelu: \\n\")\n",
    "        print(f\"Zbalansowana dokładność klasyfikacji: {balanced_accuracy: .4f}\")\n",
    "    return int(round(balanced_accuracy_to_score(balanced_accuracy)))"
   ]
  },
  {
   "cell_type": "markdown",
   "id": "a866b78776f10fe9",
   "metadata": {
    "jupyter": {
     "outputs_hidden": false
    }
   },
   "source": [
    "## Przykładowe Rozwiązanie\n",
    "\n",
    "Poniżej przedstawiamy uproszczone rozwiązanie, które służy jako przykład demonstrujący podstawową funkcjonalność notatnika. Może ono posłużyć jako punkt wyjścia do opracowania Twojego rozwiązania."
   ]
  },
  {
   "cell_type": "code",
   "execution_count": null,
   "id": "f561bb976552807f",
   "metadata": {
    "collapsed": false,
    "jupyter": {
     "outputs_hidden": false
    }
   },
   "outputs": [],
   "source": [
    "######################### NIE ZMIENIAJ TEJ KOMÓRKI PODCZAS WYSYŁANIA ##########################\n",
    "\n",
    "class ExemplarySolution(ISolution):\n",
    "    def compute_meta_features(self, x: np.ndarray) -> np.ndarray:\n",
    "        return np.array([\n",
    "            np.min(x, axis=1),\n",
    "            np.max(x, axis=1),\n",
    "            np.mean(x, axis=1),\n",
    "            np.std(x, axis=1)\n",
    "        ]).T\n",
    "\n",
    "    @staticmethod\n",
    "    def get_rf_hyperparameters() -> dict[str, int | float | str]:\n",
    "        return {\n",
    "            \"n_estimators\": 3,\n",
    "            \"random_state\": 42\n",
    "        }"
   ]
  },
  {
   "cell_type": "code",
   "execution_count": null,
   "id": "c2e3614d",
   "metadata": {},
   "outputs": [],
   "source": [
    "if not FINAL_EVALUATION_MODE:\n",
    "    exemplary_solution = ExemplarySolution.create_with_training()\n",
    "    print(f\"Ocena: {score_solution(exemplary_solution)} pkt\")"
   ]
  },
  {
   "cell_type": "markdown",
   "id": "d246838dce737412",
   "metadata": {
    "jupyter": {
     "outputs_hidden": false
    }
   },
   "source": [
    "# Twoje Rozwiązanie\n",
    "\n",
    "W tej sekcji należy umieścić Twoje rozwiązanie. Wprowadzaj zmiany wyłącznie tutaj!"
   ]
  },
  {
   "cell_type": "code",
   "execution_count": null,
   "id": "182ac3bfb15bdb9c",
   "metadata": {
    "collapsed": false,
    "jupyter": {
     "outputs_hidden": false
    }
   },
   "outputs": [],
   "source": [
    "class YourSolution(ISolution):\n",
    "    def wyswietl(self,ile=1,ktory=None):\n",
    "        import matplotlib.pyplot as plt\n",
    "        choroby = (\"zdrowy\", \"afib\", \"pac\", \"pvc\", \"STEMI\")\n",
    "        for i in range(ile):\n",
    "            if y_train[i] != ktory and ktory:\n",
    "              continue\n",
    "            plt.figure(dpi=100)\n",
    "            plt.plot(x_train[i])\n",
    "            plt.title(choroby[y_train[i]].upper())\n",
    "            plt.yticks(list(np.arange(-0.8,np.max(x_train[i]),0.1)))\n",
    "            plt.xticks(range(0,155,10))\n",
    "            plt.show()\n",
    "\n",
    "\n",
    "\n",
    "    def qrs(self, x: np.ndarray):\n",
    "        r = np.argmax(x)\n",
    "        p = np.argmin(x[:r])\n",
    "\n",
    "        ostatni = x[r]\n",
    "        s = None\n",
    "\n",
    "        for i in range(1, len(x) - r):\n",
    "            if (x[r + i] - ostatni) > 0.2:\n",
    "                s = r + i\n",
    "                break\n",
    "            ostatni = x[r + i]\n",
    "\n",
    "        #p = x[:r]\n",
    "        for i in range(1, len(x) - r):\n",
    "            if (x[r + i] - ostatni) > 0.2:\n",
    "                s = r + i\n",
    "                break\n",
    "            ostatni = x[r + i]\n",
    "\n",
    "        return [r, p, s if s is not None else r]\n",
    "\n",
    "\n",
    "\n",
    "\n",
    "    def ekstrema(self, x: np.ndarray) -> int:\n",
    "        from scipy.signal import argrelextrema\n",
    "\n",
    "        min_extrema = argrelextrema(x, np.less)[0]\n",
    "        max_extrema = argrelextrema(x, np.greater)[0]\n",
    "\n",
    "        return (len( min_extrema) , len(max_extrema))\n",
    "\n",
    "\n",
    "    def afib(self,x:np.ndarray,r):\n",
    "        e = self.ekstrema(x)\n",
    "        return (e[0]+e[1])  / np.sum(np.abs(np.diff(x)))\n",
    "\n",
    "    def pac(self, x: np.ndarray, r: int) -> float:\n",
    "        r, p, s = self.qrs(x)\n",
    "\n",
    "\n",
    "        x = np.concatenate((x[:r - 15], x[r + 30:]))\n",
    "\n",
    "\n",
    "        x = x[x >= 0.4]\n",
    "\n",
    "        if len(x) < 2:\n",
    "            return 0\n",
    "\n",
    "\n",
    "        return np.std(x) / np.max(x)\n",
    "\n",
    "    def pvc(self, x: np.ndarray):\n",
    "      r = np.argmax(x)\n",
    "      if r > 0:\n",
    "          p = np.argmin(x[:r])\n",
    "      else:\n",
    "          p = 0\n",
    "      s = np.argmin(x[r:])\n",
    "\n",
    "\n",
    "      return (s - r)\n",
    "\n",
    "    def stemi(self, x: np.ndarray):\n",
    "        x = x[:25]\n",
    "\n",
    "        if not len(x):\n",
    "            return 0\n",
    "        roznica = np.diff(x)\n",
    "\n",
    "        return  np.max(roznica) + np.mean(x) * 0.1  if len(roznica) else -1\n",
    "\n",
    "\n",
    "\n",
    "\n",
    "    def zwrocCechy(self,x:np.ndarray):\n",
    "        r, p, s = self.qrs(x)\n",
    "\n",
    "\n",
    "        Afib, PAC, PVC, STEMI = np.nan_to_num(self.afib(x,r)), np.nan_to_num(self.pac(x,r)), np.nan_to_num(self.pvc(x[r:])), np.nan_to_num(self.stemi(x[s:] if r <= 125 else np.concatenate((x[r:], x[:p]))))\n",
    "\n",
    "\n",
    "        return np.array([Afib,PAC,PVC,STEMI])\n",
    "\n",
    "    def compute_meta_features(self, x: np.ndarray) -> np.ndarray:\n",
    "        \"\"\"\n",
    "        Funkcja ta powinna dla każdego przykładu ze zbioru $x$ opisanego 150 cechami zwrócić wektor 4 cech, który będzie\n",
    "        reprezentował ten przykład. Funkcja ta powinna transformować wejściową tablicę o rozmiarze (n, 150) na tablicę o\n",
    "        rozmiarze (n, 4).\n",
    "        \"\"\"\n",
    "\n",
    "        wynik = np.zeros((len(x),4))\n",
    "        for i in range(len(x)):\n",
    "            wynik[i] = self.zwrocCechy(x[i])\n",
    "        from sklearn.preprocessing import MinMaxScaler\n",
    "        scaler = MinMaxScaler()\n",
    "        return scaler.fit_transform(wynik)\n",
    "\n",
    "    @staticmethod\n",
    "    def get_rf_hyperparameters() -> dict[str, int | float | str]:\n",
    "        \"\"\"\n",
    "        Funkcja ta powinna zwracać słownik z hiperparametrami lasu losowego. Pamiętaj o ograniczeniach na liczbę drzew i ich\n",
    "        głębokość!\n",
    "        \"\"\"\n",
    "\n",
    "        return {'bootstrap': False, 'max_depth': 10, 'max_features': 'sqrt', 'min_samples_leaf': 4, 'min_samples_split': 2, 'n_estimators': 10, 'class_weight':'balanced','random_state':42 }\n",
    "\n"
   ]
  },
  {
   "cell_type": "markdown",
   "id": "2ce82420",
   "metadata": {},
   "source": [
    "# Ewaluacja\n",
    "\n",
    "Uruchomienie poniższej komórki pozwoli sprawdzić, ile punktów zdobyłoby Twoje rozwiązanie na danych walidacyjnych. Przed wysłaniem upewnij się, że cały notebook wykonuje się od początku do końca bez błędów i bez konieczności ingerencji użytkownika po wybraniu opcji \"Run All\".\n",
    "\n",
    "Podczas sprawdzania model zostanie zapisany jako `your_model.pkl` i oceniony na zbiorze testowym."
   ]
  },
  {
   "cell_type": "code",
   "execution_count": null,
   "id": "686d3d51d2952d95",
   "metadata": {
    "collapsed": false,
    "jupyter": {
     "outputs_hidden": false
    }
   },
   "outputs": [],
   "source": [
    "######################### NIE ZMIENIAJ TEJ KOMÓRKI PODCZAS WYSYŁANIA ##########################\n",
    "if FINAL_EVALUATION_MODE:\n",
    "    your_solution = YourSolution.create_with_training()\n",
    "    print(f\"Ocena: {score_solution(your_solution)} pkt\")\n",
    "\n",
    "    OUTPUT_PATH = \"file_output\"\n",
    "    FUNCTION_FILENAME = \"your_solution\"\n",
    "    FUNCTION_OUTPUT_PATH = os.path.join(OUTPUT_PATH, FUNCTION_FILENAME)\n",
    "\n",
    "    if not os.path.exists(OUTPUT_PATH):\n",
    "        os.makedirs(OUTPUT_PATH)\n",
    "    \n",
    "    with open(\"file_output/your_model.pkl\", \"wb\") as model_out:\n",
    "        cloudpickle.dump(your_solution, model_out)"
   ]
  }
 ],
 "metadata": {
  "kernelspec": {
   "display_name": "Python 3 (ipykernel)",
   "language": "python",
   "name": "python3"
  },
  "language_info": {
   "codemirror_mode": {
    "name": "ipython",
    "version": 3
   },
   "file_extension": ".py",
   "mimetype": "text/x-python",
   "name": "python",
   "nbconvert_exporter": "python",
   "pygments_lexer": "ipython3",
   "version": "3.9.12"
  }
 },
 "nbformat": 4,
 "nbformat_minor": 5
}
